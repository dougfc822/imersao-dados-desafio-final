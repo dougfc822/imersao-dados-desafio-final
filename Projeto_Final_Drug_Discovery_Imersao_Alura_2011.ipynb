{
  "nbformat": 4,
  "nbformat_minor": 0,
  "metadata": {
    "colab": {
      "name": "Projeto Final - Drug Discovery - Imersao Alura 2011.ipynb",
      "provenance": [],
      "authorship_tag": "ABX9TyP3j3YJ+E65f0BxyQcUDZMi"
    },
    "kernelspec": {
      "name": "python3",
      "display_name": "Python 3"
    },
    "language_info": {
      "name": "python"
    }
  },
  "cells": [
    {
      "cell_type": "code",
      "metadata": {
        "id": "VTSbIplosfgC"
      },
      "source": [
        ""
      ],
      "execution_count": null,
      "outputs": []
    },
    {
      "cell_type": "markdown",
      "metadata": {
        "id": "plRehM8sslmv"
      },
      "source": [
        "#Bibliografia\n",
        "[Desafio Kaggle Inspiração](https://www.kaggle.com/c/lish-moa/overview)"
      ]
    }
  ]
}